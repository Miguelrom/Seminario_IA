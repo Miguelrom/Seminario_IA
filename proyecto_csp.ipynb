{
 "cells": [
  {
   "cell_type": "markdown",
   "metadata": {},
   "source": [
    "\n",
    "<div align=\"center\"><h2>UNIVERSIDAD DE SONORA</h2></div>\n",
    "<div align=\"center\"><h2>DIVISIÓN DE CIENCIAS EXACTAS Y NATURALES</h2></div>\n",
    "<div align=\"center\"><h2>DEPARTAMENTO DE MATEMÁTICAS</h2></div>\n",
    "<div align=\"center\"><h2>LICENCIATURA EN CIENCIAS DE LA COMPUTACIÓN</h2></div>\n",
    "<br>\n",
    "<br>\n",
    "\n",
    "<div align=\"center\"><img src=\"ESCUDO_UNISON.png\" width=200></div>\n",
    "\n",
    "<br>\n",
    "<div align=\"center\"><h2>NOMBRE DEL PROYECTO:</h2></div>\n",
    "<div align=\"center\"><h2>\"CREACIÓN DE UN HORARIO UNIVERSITARIO MODELADO COMO UN PROBLEMA DE SATISFACCIÓN DE RESTRICCIONES\"</h2></div>\n",
    "\n",
    "<br>\n",
    "<br>\n",
    "<div align=\"center\"><h2>ALUMNO:</h2></div>\n",
    "<div align=\"center\"><h2>MIGUEL ROMERO VALDÉS</h2></div>\n",
    "\n",
    "<br>\n",
    "<br>\n",
    "<div align=\"center\"><h2>MATERIA:</h2></div>\n",
    "<div align=\"center\"><h2>SEMINARIO DE INTELIGENCIA ARTIFICIAL</h2></div>\n",
    "\n",
    "<br>\n",
    "<br>\n",
    "<div align=\"center\"><h2>PROFESORA:</h2></div>\n",
    "<div align=\"center\"><h2>DRA. SONIA GUADALUPE SOSA LEÓN</h2></div>\n",
    "\n",
    "<br>\n",
    "<br><br>\n",
    "<div align=\"center\"><h2>HERMOSILLO, SONORA, 13 DE ABRIL DEL 2020</h2></div>\n"
   ]
  },
  {
   "cell_type": "markdown",
   "metadata": {},
   "source": []
  }
 ],
 "metadata": {
  "kernelspec": {
   "display_name": "Python 3",
   "language": "python",
   "name": "python3"
  },
  "language_info": {
   "codemirror_mode": {
    "name": "ipython",
    "version": 3
   },
   "file_extension": ".py",
   "mimetype": "text/x-python",
   "name": "python",
   "nbconvert_exporter": "python",
   "pygments_lexer": "ipython3",
   "version": "3.8.2"
  }
 },
 "nbformat": 4,
 "nbformat_minor": 4
}
